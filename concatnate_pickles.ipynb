{
 "cells": [
  {
   "cell_type": "code",
   "execution_count": 5,
   "metadata": {
    "collapsed": true
   },
   "outputs": [],
   "source": [
    "import pickle\n",
    "\n",
    "file1 = \"output_encoding_bert.pkl\"\n",
    "file2 = \"output_encoding_bert2.pkl\"\n",
    "\n",
    "f1 = open(file1, 'rb')\n",
    "d1 = pickle.load(f1)\n"
   ]
  },
  {
   "cell_type": "code",
   "execution_count": 6,
   "outputs": [
    {
     "name": "stdout",
     "output_type": "stream",
     "text": [
      "{'input_ids': tensor([[    0, 18377,    35,  ...,     1,     1,     1],\n",
      "        [    0, 18377,    35,  ...,     1,     1,     1],\n",
      "        [    0, 18377,    35,  ...,     1,     1,     1],\n",
      "        ...,\n",
      "        [    0, 18377,    35,  ...,     1,     1,     1],\n",
      "        [    0, 18377,    35,  ...,     1,     1,     1],\n",
      "        [    0, 18377,    35,  ...,     1,     1,     1]]), 'attention_mask': tensor([[1, 1, 1,  ..., 0, 0, 0],\n",
      "        [1, 1, 1,  ..., 0, 0, 0],\n",
      "        [1, 1, 1,  ..., 0, 0, 0],\n",
      "        ...,\n",
      "        [1, 1, 1,  ..., 0, 0, 0],\n",
      "        [1, 1, 1,  ..., 0, 0, 0],\n",
      "        [1, 1, 1,  ..., 0, 0, 0]])}\n"
     ]
    }
   ],
   "source": [
    "\n",
    "f2 = open(file2, 'rb')\n",
    "d2 = pickle.load(f2)\n",
    "print(d1)"
   ],
   "metadata": {
    "collapsed": false
   }
  },
  {
   "cell_type": "code",
   "execution_count": 7,
   "outputs": [
    {
     "name": "stdout",
     "output_type": "stream",
     "text": [
      "torch.Size([200000, 512])\n",
      "torch.Size([211510, 512])\n"
     ]
    }
   ],
   "source": [
    "print(d1['input_ids'].shape)\n",
    "print(d2['input_ids'].shape)"
   ],
   "metadata": {
    "collapsed": false
   }
  },
  {
   "cell_type": "code",
   "execution_count": 8,
   "outputs": [],
   "source": [
    "import torch\n",
    "\n",
    "t1 = d1['input_ids']\n",
    "t2 = d2['input_ids']\n",
    "t3 = torch.cat((t1, t2))"
   ],
   "metadata": {
    "collapsed": false
   }
  },
  {
   "cell_type": "code",
   "execution_count": 9,
   "outputs": [
    {
     "name": "stdout",
     "output_type": "stream",
     "text": [
      "tensor([[    0, 18377,    35,  ...,     1,     1,     1],\n",
      "        [    0, 18377,    35,  ...,     1,     1,     1],\n",
      "        [    0, 18377,    35,  ...,     1,     1,     1],\n",
      "        ...,\n",
      "        [    0, 18377,    35,  ...,     1,     1,     1],\n",
      "        [    0, 18377,    35,  ...,     1,     1,     1],\n",
      "        [    0, 18377,    35,  ...,     1,     1,     1]])\n"
     ]
    }
   ],
   "source": [
    "print(t3)"
   ],
   "metadata": {
    "collapsed": false
   }
  },
  {
   "cell_type": "code",
   "execution_count": 10,
   "outputs": [],
   "source": [
    "tt1 = d1['attention_mask']\n",
    "tt2 = d2['attention_mask']\n",
    "tt3 = torch.cat((tt1, tt2))"
   ],
   "metadata": {
    "collapsed": false
   }
  },
  {
   "cell_type": "code",
   "execution_count": 11,
   "outputs": [
    {
     "name": "stdout",
     "output_type": "stream",
     "text": [
      "torch.Size([411510, 512])\n"
     ]
    }
   ],
   "source": [
    "print(tt3.shape)"
   ],
   "metadata": {
    "collapsed": false
   }
  },
  {
   "cell_type": "code",
   "execution_count": 12,
   "outputs": [],
   "source": [
    "dict = {'input_ids': t3, 'attention_mask': tt3}"
   ],
   "metadata": {
    "collapsed": false
   }
  },
  {
   "cell_type": "markdown",
   "source": [],
   "metadata": {
    "collapsed": false
   }
  },
  {
   "cell_type": "code",
   "execution_count": 13,
   "outputs": [
    {
     "name": "stdout",
     "output_type": "stream",
     "text": [
      "dictionary saved successfully to file\n"
     ]
    }
   ],
   "source": [
    "with open('output_encoding_bert_final.pkl', 'wb') as fp:\n",
    "    pickle.dump(dict, fp)\n",
    "    print('dictionary saved successfully to file')\n"
   ],
   "metadata": {
    "collapsed": false
   }
  }
 ],
 "metadata": {
  "kernelspec": {
   "display_name": "Python 3",
   "language": "python",
   "name": "python3"
  },
  "language_info": {
   "codemirror_mode": {
    "name": "ipython",
    "version": 2
   },
   "file_extension": ".py",
   "mimetype": "text/x-python",
   "name": "python",
   "nbconvert_exporter": "python",
   "pygments_lexer": "ipython2",
   "version": "2.7.6"
  }
 },
 "nbformat": 4,
 "nbformat_minor": 0
}
