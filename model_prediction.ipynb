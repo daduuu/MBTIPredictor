{
 "cells": [
  {
   "cell_type": "code",
   "execution_count": 3,
   "metadata": {
    "collapsed": true
   },
   "outputs": [
    {
     "name": "stderr",
     "output_type": "stream",
     "text": [
      "Some weights of the model checkpoint at distilroberta-base were not used when initializing RobertaForMultipleChoice: ['lm_head.decoder.weight', 'lm_head.layer_norm.bias', 'lm_head.layer_norm.weight', 'lm_head.bias', 'lm_head.dense.bias', 'lm_head.dense.weight']\n",
      "- This IS expected if you are initializing RobertaForMultipleChoice from the checkpoint of a model trained on another task or with another architecture (e.g. initializing a BertForSequenceClassification model from a BertForPreTraining model).\n",
      "- This IS NOT expected if you are initializing RobertaForMultipleChoice from the checkpoint of a model that you expect to be exactly identical (initializing a BertForSequenceClassification model from a BertForSequenceClassification model).\n",
      "Some weights of RobertaForMultipleChoice were not initialized from the model checkpoint at distilroberta-base and are newly initialized: ['classifier.weight', 'classifier.bias']\n",
      "You should probably TRAIN this model on a down-stream task to be able to use it for predictions and inference.\n"
     ]
    }
   ],
   "source": [
    "from transformers import AutoModelForMultipleChoice, AutoTokenizer\n",
    "from global_vars import *\n",
    "import torch\n",
    "\n",
    "model_saved = \"mbti_bert_small.pt\"\n",
    "\n",
    "tokenizer = AutoTokenizer.from_pretrained(model_name)\n",
    "model = AutoModelForMultipleChoice.from_pretrained(model_name)\n",
    "model.load_state_dict(torch.load(model_saved, map_location=torch.device('cpu')))\n",
    "model.eval();"
   ]
  },
  {
   "cell_type": "code",
   "execution_count": 4,
   "metadata": {
    "collapsed": false
   },
   "outputs": [
    {
     "name": "stdout",
     "output_type": "stream",
     "text": [
      "tensor([[-5.1153, -5.1847,  3.5397,  2.5313, -5.1232, -5.1992,  2.1180,  3.2202,\n",
      "         -5.1268, -5.2320, -5.3541, -2.7298, -5.1565, -5.1948, -1.5902, -2.8993]],\n",
      "       grad_fn=<ViewBackward0>)\n",
      "INFJ\n",
      "INTP\n",
      "INTJ\n",
      "INFP\n",
      "ENFJ\n"
     ]
    }
   ],
   "source": [
    "from torch.nn import functional as F\n",
    "#input_text = \"All things in moderation  Sims is indeed a video game, and a good one at that Note a good one at that is somewhat subjective in that I am not completely promoting the death of any given Sim\"\n",
    "#input_text = \"No Its like a theme for where I live and that is why I know it by heart\"\n",
    "input_text = \"I collect shoes I do so because I like status and nothing communicates such a thing as much as a pair of Jordans\"\n",
    "choices = [\"ISTJ\", \"ISFJ\", \"INFJ\", \"INTJ\", \"ISTP\", \"ISFP\", \"INFP\", \"INTP\", \"ESTP\", \"ESFP\", \"ENFP\", \"ENTP\", \"ESTJ\", \"ESFJ\", \"ENFJ\", \"ENTJ\"]\n",
    "\n",
    "map_val = {0: \"ISTJ\", 1: \"ISFJ\", 2: \"INFJ\", 3: \"INTJ\", 4: \"ISTP\", 5: \"ISFP\", 6: \"INFP\", 7: \"INTP\", 8: \"ESTP\", 9: \"ESFP\", 10: \"ENFP\", 11: \"ENTP\", 12: \"ESTJ\", 13: \"ESFJ\", 14: \"ENFJ\", 15: \"ENTJ\"}\n",
    "\n",
    "\n",
    "encoding = tokenizer([input_text] * 16, choices, return_tensors=\"pt\", padding=True, truncation=True)\n",
    "output = model(**{k: v.unsqueeze(0) for k, v in encoding.items()})\n",
    "\n",
    "logits = output.logits\n",
    "print(logits)\n",
    "\n",
    "softmax = F.softmax(logits, dim = -1)\n",
    "top_5 = torch.topk(softmax, 5, dim = 1)[1][0]\n",
    "for i in top_5:\n",
    "    print(map_val[i.item()])\n",
    "\n"
   ]
  }
 ],
 "metadata": {
  "kernelspec": {
   "display_name": "base",
   "language": "python",
   "name": "python3"
  },
  "language_info": {
   "codemirror_mode": {
    "name": "ipython",
    "version": 3
   },
   "file_extension": ".py",
   "mimetype": "text/x-python",
   "name": "python",
   "nbconvert_exporter": "python",
   "pygments_lexer": "ipython3",
   "version": "3.10.8"
  },
  "vscode": {
   "interpreter": {
    "hash": "bb5be30fe36de2f6a20b587b5091abd78151f33ea26011eb1c0dc6bd269e506d"
   }
  }
 },
 "nbformat": 4,
 "nbformat_minor": 0
}
