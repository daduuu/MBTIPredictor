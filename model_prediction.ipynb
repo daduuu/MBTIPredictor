{
 "cells": [
  {
   "cell_type": "code",
   "execution_count": 3,
   "metadata": {
    "collapsed": true
   },
   "outputs": [],
   "source": [
    "from transformers import AutoModelForMaskedLM, AutoTokenizer\n",
    "from global_vars import *\n",
    "import torch\n",
    "\n",
    "model_saved = \"bert_mlm2023-03-05-18-13-19\"\n",
    "\n",
    "tokenizer = AutoTokenizer.from_pretrained(model_name)\n",
    "model = AutoModelForMaskedLM.from_pretrained(model_name)\n",
    "model.load_state_dict(torch.load(model_saved, map_location=torch.device('cpu')))\n",
    "model.eval();"
   ]
  },
  {
   "cell_type": "code",
   "execution_count": 6,
   "outputs": [
    {
     "name": "stdout",
     "output_type": "stream",
     "text": [
      "Given: All things in moderation  Sims is indeed a video game, and a good one at that Note a good one at that is somewhat subjective in that I am not completely promoting the death of any given Sim IN\n",
      "Given: All things in moderation  Sims is indeed a video game, and a good one at that Note a good one at that is somewhat subjective in that I am not completely promoting the death of any given Sim INT\n"
     ]
    }
   ],
   "source": [
    "from torch.nn import functional as F\n",
    "\n",
    "input_text = \"Given: All things in moderation  Sims is indeed a video game, and a good one at that Note a good one at that is somewhat subjective in that I am not completely promoting the death of any given Sim\" + tokenizer.mask_token\n",
    "input = tokenizer(input_text, return_tensors=\"pt\")\n",
    "\n",
    "mask_index = torch.where(input[\"input_ids\"][0] == tokenizer.mask_token_id)\n",
    "\n",
    "output = model(**input)\n",
    "logits = output.logits\n",
    "\n",
    "softmax = F.softmax(logits, dim = -1)\n",
    "mask_word = softmax[0, mask_index, :]\n",
    "top_5 = torch.topk(mask_word, 2, dim = 1)[1][0]\n",
    "\n",
    "for token in top_5:\n",
    "    word = tokenizer.decode([token])\n",
    "    new_sentence = input_text.replace(tokenizer.mask_token, word)\n",
    "    print(new_sentence)"
   ],
   "metadata": {
    "collapsed": false
   }
  }
 ],
 "metadata": {
  "kernelspec": {
   "display_name": "Python 3",
   "language": "python",
   "name": "python3"
  },
  "language_info": {
   "codemirror_mode": {
    "name": "ipython",
    "version": 2
   },
   "file_extension": ".py",
   "mimetype": "text/x-python",
   "name": "python",
   "nbconvert_exporter": "python",
   "pygments_lexer": "ipython2",
   "version": "2.7.6"
  }
 },
 "nbformat": 4,
 "nbformat_minor": 0
}
