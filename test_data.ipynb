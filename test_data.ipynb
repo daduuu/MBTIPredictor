{
 "cells": [
  {
   "cell_type": "code",
   "execution_count": 23,
   "metadata": {
    "collapsed": true
   },
   "outputs": [],
   "source": [
    "import pandas as pd"
   ]
  },
  {
   "cell_type": "code",
   "execution_count": 24,
   "metadata": {
    "collapsed": false
   },
   "outputs": [],
   "source": [
    "df = pd.read_csv(\"mbti_1.csv\")"
   ]
  },
  {
   "cell_type": "code",
   "execution_count": 25,
   "metadata": {
    "collapsed": false
   },
   "outputs": [],
   "source": [
    "df['posts'] = df['posts'].apply(lambda x: x.split(\"|||\"))"
   ]
  },
  {
   "cell_type": "code",
   "execution_count": 26,
   "metadata": {
    "collapsed": false
   },
   "outputs": [],
   "source": [
    "df = df.explode('posts')"
   ]
  },
  {
   "cell_type": "code",
   "execution_count": 34,
   "metadata": {
    "collapsed": false
   },
   "outputs": [
    {
     "name": "stdout",
     "output_type": "stream",
     "text": [
      "0         INFJ\n",
      "1         INFJ\n",
      "2         INFJ\n",
      "3         INFJ\n",
      "4         INFJ\n",
      "          ... \n",
      "422840    INFP\n",
      "422841    INFP\n",
      "422842    INFP\n",
      "422843    INFP\n",
      "422844    INFP\n",
      "Name: type, Length: 422845, dtype: object\n"
     ]
    }
   ],
   "source": [
    "df = df.reset_index(drop=True).dropna()\n",
    "print(df['type'])"
   ]
  },
  {
   "cell_type": "code",
   "execution_count": 40,
   "metadata": {
    "collapsed": false
   },
   "outputs": [],
   "source": [
    "df = df[['posts', 'type']]"
   ]
  },
  {
   "cell_type": "code",
   "execution_count": 41,
   "metadata": {
    "collapsed": false
   },
   "outputs": [
    {
     "name": "stdout",
     "output_type": "stream",
     "text": [
      "posts    'http://www.youtube.com/watch?v=qsXHcwe3krw\n",
      "type                                            INFJ\n",
      "Name: 0, dtype: object\n"
     ]
    }
   ],
   "source": [
    "print(df.iloc[0])"
   ]
  },
  {
   "cell_type": "code",
   "execution_count": 42,
   "metadata": {
    "collapsed": false
   },
   "outputs": [],
   "source": [
    "\n",
    "df['input'] = \"Given: \" + df['posts'] + \"MBTI: [MASK]\"\n",
    "df['output'] = \"Given: \" + df['posts'] + \"MBTI: \" + df['type']\n"
   ]
  },
  {
   "cell_type": "code",
   "execution_count": 45,
   "metadata": {
    "collapsed": false
   },
   "outputs": [
    {
     "name": "stdout",
     "output_type": "stream",
     "text": [
      "Given: 'http://www.youtube.com/watch?v=qsXHcwe3krwMBTI: INFJ\n"
     ]
    }
   ],
   "source": [
    "print(df['output'].iloc[0])"
   ]
  },
  {
   "cell_type": "code",
   "execution_count": 11,
   "metadata": {
    "collapsed": false
   },
   "outputs": [
    {
     "name": "stdout",
     "output_type": "stream",
     "text": [
      "tensor([[    0, 18377,    35,  ...,     1,     1,     1],\n",
      "        [    0, 18377,    35,  ...,     1,     1,     1],\n",
      "        [    0, 18377,    35,  ...,     1,     1,     1],\n",
      "        ...,\n",
      "        [    0, 18377,    35,  ...,     1,     1,     1],\n",
      "        [    0, 18377,    35,  ...,     1,     1,     1],\n",
      "        [    0, 18377,    35,  ...,     1,     1,     1]])\n"
     ]
    }
   ],
   "source": [
    "import pickle\n",
    "\n",
    "file = open(\"input_encoding_bert.pkl\", 'rb')\n",
    "data = pickle.load(file)"
   ]
  },
  {
   "cell_type": "code",
   "execution_count": 34,
   "metadata": {},
   "outputs": [],
   "source": [
    "from datasets import Dataset\n",
    "import pandas as pd\n",
    "df = pd.read_csv(\"converted.csv\")\n",
    "ds = Dataset.from_pandas(df)\n",
    "from transformers import AutoModelForMultipleChoice, AutoTokenizer\n",
    "tokenizer = AutoTokenizer.from_pretrained(\"roberta-base\")"
   ]
  },
  {
   "cell_type": "code",
   "execution_count": 35,
   "metadata": {},
   "outputs": [
    {
     "name": "stdout",
     "output_type": "stream",
     "text": [
      "[' ', ' ', ' ', ' ', ' ']\n"
     ]
    }
   ],
   "source": [
    "examples = ds[:5]\n",
    "ending_names = [\"ISTJ\", \"ISFJ\", \"INFJ\", \"INTJ\", \"ISTP\", \"ISFP\", \"INFP\", \"INTP\", \"ESTP\", \"ESFP\", \"ENFP\", \"ENTP\", \"ESTJ\", \"ESFJ\", \"ENFJ\", \"ENTJ\"]\n",
    "def preprocess_function(examples):\n",
    "    first_sentences = [[context] * 16 for context in examples[\"posts\"]]\n",
    "\n",
    "    question_headers = examples['pad']\n",
    "    print(question_headers)\n",
    "    second_sentences = [[f\"{header} {end}\".strip() for end in ending_names] for i, header in enumerate(question_headers)]\n",
    "    \n",
    "    first_sentences = sum(first_sentences, [])\n",
    "    second_sentences = sum(second_sentences, [])\n",
    "    \n",
    "    tokenized_examples = tokenizer(first_sentences, second_sentences, truncation=True)\n",
    "\n",
    "    return {k: [v[i:i+16] for i in range(0, len(v), 16)] for k, v in tokenized_examples.items()}\n",
    "\n",
    "\n",
    "features = preprocess_function(examples)\n"
   ]
  },
  {
   "cell_type": "code",
   "execution_count": 36,
   "metadata": {},
   "outputs": [
    {
     "name": "stdout",
     "output_type": "stream",
     "text": [
      "5 16 [20, 21, 21, 20, 20, 20, 20, 20, 20, 20, 20, 20, 20, 21, 21, 20]\n"
     ]
    }
   ],
   "source": [
    "print(len(features[\"input_ids\"]), len(features[\"input_ids\"][0]), [len(x) for x in features[\"input_ids\"][0]])"
   ]
  },
  {
   "cell_type": "code",
   "execution_count": 37,
   "metadata": {},
   "outputs": [
    {
     "data": {
      "text/plain": [
       "['<s>On repeat for most of today</s></s>ISTJ</s>',\n",
       " '<s>On repeat for most of today</s></s>ISFJ</s>',\n",
       " '<s>On repeat for most of today</s></s>INFJ</s>',\n",
       " '<s>On repeat for most of today</s></s>INTJ</s>',\n",
       " '<s>On repeat for most of today</s></s>ISTP</s>',\n",
       " '<s>On repeat for most of today</s></s>ISFP</s>',\n",
       " '<s>On repeat for most of today</s></s>INFP</s>',\n",
       " '<s>On repeat for most of today</s></s>INTP</s>',\n",
       " '<s>On repeat for most of today</s></s>ESTP</s>',\n",
       " '<s>On repeat for most of today</s></s>ESFP</s>',\n",
       " '<s>On repeat for most of today</s></s>ENFP</s>',\n",
       " '<s>On repeat for most of today</s></s>ENTP</s>',\n",
       " '<s>On repeat for most of today</s></s>ESTJ</s>',\n",
       " '<s>On repeat for most of today</s></s>ESFJ</s>',\n",
       " '<s>On repeat for most of today</s></s>ENFJ</s>',\n",
       " '<s>On repeat for most of today</s></s>ENTJ</s>']"
      ]
     },
     "execution_count": 37,
     "metadata": {},
     "output_type": "execute_result"
    }
   ],
   "source": [
    "idx = 2\n",
    "[tokenizer.decode(features[\"input_ids\"][idx][i]) for i in range(16)]"
   ]
  }
 ],
 "metadata": {
  "kernelspec": {
   "display_name": "base",
   "language": "python",
   "name": "python3"
  },
  "language_info": {
   "codemirror_mode": {
    "name": "ipython",
    "version": 3
   },
   "file_extension": ".py",
   "mimetype": "text/x-python",
   "name": "python",
   "nbconvert_exporter": "python",
   "pygments_lexer": "ipython3",
   "version": "3.10.8"
  },
  "vscode": {
   "interpreter": {
    "hash": "bb5be30fe36de2f6a20b587b5091abd78151f33ea26011eb1c0dc6bd269e506d"
   }
  }
 },
 "nbformat": 4,
 "nbformat_minor": 0
}
