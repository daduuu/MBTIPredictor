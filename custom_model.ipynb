{
 "cells": [
  {
   "cell_type": "code",
   "execution_count": 1,
   "metadata": {},
   "outputs": [],
   "source": [
    "from global_vars import *\n",
    "from transformers import AutoModelForMultipleChoice, AutoTokenizer\n",
    "from datasets import Dataset, load_from_disk\n",
    "from tqdm import tqdm\n",
    "import pandas as pd\n",
    "import wandb\n",
    "import pickle\n",
    "import numpy as np\n",
    "from wandb.keras import WandbMetricsLogger, WandbCallback\n",
    "import tensorflow as tf\n",
    "import os\n",
    "from tensorflow.keras import Model # if only machine learning were this easy :P\n",
    "from tensorflow.keras.models import Sequential\n",
    "from tensorflow.keras.preprocessing.text import Tokenizer\n",
    "import matplotlib.pyplot as plt\n",
    "from sklearn.model_selection import train_test_split\n",
    "#import any other libraries you want here:\n",
    "from tensorflow.keras.layers import Dense, SpatialDropout1D, LSTM, Embedding, GlobalAveragePooling1D\n",
    "from tensorflow.keras.activations import softmax\n",
    "from tensorflow.keras.preprocessing.sequence import pad_sequences\n",
    "from tensorflow.keras.callbacks import EarlyStopping, LambdaCallback, ModelCheckpoint"
   ]
  },
  {
   "cell_type": "code",
   "execution_count": 63,
   "metadata": {},
   "outputs": [
    {
     "data": {
      "text/html": [
       "Tracking run with wandb version 0.14.0"
      ],
      "text/plain": [
       "<IPython.core.display.HTML object>"
      ]
     },
     "metadata": {},
     "output_type": "display_data"
    },
    {
     "data": {
      "text/html": [
       "Run data is saved locally in <code>c:\\Users\\enoch\\MBTIPredictor\\wandb\\run-20230318_133829-2a321063</code>"
      ],
      "text/plain": [
       "<IPython.core.display.HTML object>"
      ]
     },
     "metadata": {},
     "output_type": "display_data"
    },
    {
     "data": {
      "text/html": [
       "Syncing run <strong><a href='https://wandb.ai/mbtipredictor/mbti_bert_mlm/runs/2a321063' target=\"_blank\">ethereal-wood-355</a></strong> to <a href='https://wandb.ai/mbtipredictor/mbti_bert_mlm' target=\"_blank\">Weights & Biases</a> (<a href='https://wandb.me/run' target=\"_blank\">docs</a>)<br/>"
      ],
      "text/plain": [
       "<IPython.core.display.HTML object>"
      ]
     },
     "metadata": {},
     "output_type": "display_data"
    },
    {
     "data": {
      "text/html": [
       " View project at <a href='https://wandb.ai/mbtipredictor/mbti_bert_mlm' target=\"_blank\">https://wandb.ai/mbtipredictor/mbti_bert_mlm</a>"
      ],
      "text/plain": [
       "<IPython.core.display.HTML object>"
      ]
     },
     "metadata": {},
     "output_type": "display_data"
    },
    {
     "data": {
      "text/html": [
       " View run at <a href='https://wandb.ai/mbtipredictor/mbti_bert_mlm/runs/2a321063' target=\"_blank\">https://wandb.ai/mbtipredictor/mbti_bert_mlm/runs/2a321063</a>"
      ],
      "text/plain": [
       "<IPython.core.display.HTML object>"
      ]
     },
     "metadata": {},
     "output_type": "display_data"
    }
   ],
   "source": [
    "run = wandb.init(\n",
    "    project=\"mbti_bert_mlm\",\n",
    "    config=dict,\n",
    "    entity=\"mbtipredictor\"\n",
    ")"
   ]
  },
  {
   "cell_type": "code",
   "execution_count": 4,
   "metadata": {},
   "outputs": [
    {
     "name": "stdout",
     "output_type": "stream",
     "text": [
      "<class 'pandas.core.frame.DataFrame'>\n",
      "RangeIndex: 106067 entries, 0 to 106066\n",
      "Data columns (total 4 columns):\n",
      " #   Column   Non-Null Count   Dtype \n",
      "---  ------   --------------   ----- \n",
      " 0   posts    106067 non-null  object\n",
      " 1   type     106067 non-null  object\n",
      " 2   new_col  106067 non-null  int64 \n",
      " 3   pad      106067 non-null  object\n",
      "dtypes: int64(1), object(3)\n",
      "memory usage: 3.2+ MB\n"
     ]
    }
   ],
   "source": [
    "df = pd.read_csv(\"converted_new_for_custom.csv\")\n",
    "df.info()"
   ]
  },
  {
   "cell_type": "code",
   "execution_count": 5,
   "metadata": {},
   "outputs": [
    {
     "name": "stdout",
     "output_type": "stream",
     "text": [
      "Found 256681 unique tokens.\n"
     ]
    }
   ],
   "source": [
    "# The maximum number of words to be used. (most frequent)\n",
    "MAX_NB_WORDS = 50000\n",
    "# Max number of words in each complaint.\n",
    "MAX_SEQUENCE_LENGTH = 500\n",
    "# This is fixed.\n",
    "EMBEDDING_DIM = 100\n",
    "tokenizer = Tokenizer(num_words=MAX_NB_WORDS, filters='!\"#$%&()*+,-./:;<=>?@[\\]^_`{|}~', lower=True)\n",
    "tokenizer.fit_on_texts(df['posts'].values)\n",
    "word_index = tokenizer.word_index\n",
    "print('Found %s unique tokens.' % len(word_index))"
   ]
  },
  {
   "cell_type": "code",
   "execution_count": 6,
   "metadata": {},
   "outputs": [
    {
     "name": "stdout",
     "output_type": "stream",
     "text": [
      "Shape of data tensor: (106067, 500)\n"
     ]
    }
   ],
   "source": [
    "X = tokenizer.texts_to_sequences(df['posts'].values)\n",
    "X = pad_sequences(X, maxlen=MAX_SEQUENCE_LENGTH)\n",
    "print('Shape of data tensor:', X.shape)"
   ]
  },
  {
   "cell_type": "code",
   "execution_count": 7,
   "metadata": {},
   "outputs": [
    {
     "name": "stdout",
     "output_type": "stream",
     "text": [
      "Shape of label tensor: (106067, 16)\n"
     ]
    }
   ],
   "source": [
    "Y = pd.get_dummies(df['type']).values\n",
    "print('Shape of label tensor:', Y.shape)"
   ]
  },
  {
   "cell_type": "code",
   "execution_count": 8,
   "metadata": {},
   "outputs": [
    {
     "name": "stdout",
     "output_type": "stream",
     "text": [
      "(95460, 500) (95460, 16)\n",
      "(10607, 500) (10607, 16)\n"
     ]
    }
   ],
   "source": [
    "X_train, X_test, Y_train, Y_test = train_test_split(X,Y, test_size = 0.10, random_state = 42)\n",
    "print(X_train.shape,Y_train.shape)\n",
    "print(X_test.shape,Y_test.shape)"
   ]
  },
  {
   "cell_type": "code",
   "execution_count": 9,
   "metadata": {},
   "outputs": [
    {
     "name": "stdout",
     "output_type": "stream",
     "text": [
      "(85914, 500) (85914, 16)\n",
      "(9546, 500) (9546, 16)\n"
     ]
    }
   ],
   "source": [
    "X_train, X_val, Y_train, Y_val = train_test_split(X_train,Y_train, test_size = 0.10, random_state = 42)\n",
    "print(X_train.shape,Y_train.shape)\n",
    "print(X_val.shape,Y_val.shape)"
   ]
  },
  {
   "cell_type": "code",
   "execution_count": 56,
   "metadata": {},
   "outputs": [
    {
     "name": "stdout",
     "output_type": "stream",
     "text": [
      "500\n",
      "50\n"
     ]
    }
   ],
   "source": [
    "xt= X_train[:500]\n",
    "xv = X_val[:50]\n",
    "xte = X_test[:50]\n",
    "yt= Y_train[:500]\n",
    "yv = Y_val[:50]\n",
    "yte = Y_test[:50]\n",
    "\n",
    "print(len(xt))\n",
    "print(len(xv))"
   ]
  },
  {
   "cell_type": "code",
   "execution_count": 57,
   "metadata": {},
   "outputs": [
    {
     "name": "stdout",
     "output_type": "stream",
     "text": [
      "Model: \"sequential_8\"\n",
      "_________________________________________________________________\n",
      " Layer (type)                Output Shape              Param #   \n",
      "=================================================================\n",
      " embedding_8 (Embedding)     (None, 500, 100)          5000000   \n",
      "                                                                 \n",
      " spatial_dropout1d_8 (Spatia  (None, 500, 100)         0         \n",
      " lDropout1D)                                                     \n",
      "                                                                 \n",
      " lstm_1 (LSTM)               (None, 500, 100)          80400     \n",
      "                                                                 \n",
      " lstm_2 (LSTM)               (None, 500, 50)           30200     \n",
      "                                                                 \n",
      " globalaveragepooling1d (Glo  (None, 50)               0         \n",
      " balAveragePooling1D)                                            \n",
      "                                                                 \n",
      " dense (Dense)               (None, 16)                816       \n",
      "                                                                 \n",
      "=================================================================\n",
      "Total params: 5,111,416\n",
      "Trainable params: 5,111,416\n",
      "Non-trainable params: 0\n",
      "_________________________________________________________________\n"
     ]
    }
   ],
   "source": [
    "model = Sequential()\n",
    "model.add(Embedding(MAX_NB_WORDS, EMBEDDING_DIM, input_length=X.shape[1]))\n",
    "model.add(SpatialDropout1D(0.2))\n",
    "model.add(LSTM(100, dropout=0.2, recurrent_dropout=0.2, name = \"lstm_1\", return_sequences=True))\n",
    "model.add(LSTM(50, dropout=0.1, recurrent_dropout=0.1, name = \"lstm_2\", return_sequences=True))\n",
    "model.add(GlobalAveragePooling1D(name = \"globalaveragepooling1d\"))\n",
    "model.add(Dense(16, activation='softmax', name = \"dense\"))\n",
    "model.compile(loss='categorical_crossentropy', optimizer='adam', metrics=['categorical_accuracy'])\n",
    "\n",
    "\n",
    "model.summary()\n",
    "\n"
   ]
  },
  {
   "cell_type": "code",
   "execution_count": 66,
   "metadata": {},
   "outputs": [
    {
     "name": "stdout",
     "output_type": "stream",
     "text": [
      "8592\n",
      "955\n"
     ]
    }
   ],
   "source": [
    "# Prepare the training dataset.\n",
    "train_dataset = tf.data.Dataset.from_tensor_slices((X_train, Y_train))\n",
    "train_dataset = train_dataset.shuffle(buffer_size=1024).batch(batch_size)\n",
    "\n",
    "# Prepare the validation dataset.\n",
    "val_dataset = tf.data.Dataset.from_tensor_slices((X_val, Y_val))\n",
    "val_dataset = val_dataset.batch(batch_size)\n",
    "\n",
    "print(len(train_dataset))\n",
    "print(len(val_dataset))\n"
   ]
  },
  {
   "cell_type": "code",
   "execution_count": 64,
   "metadata": {},
   "outputs": [
    {
     "name": "stdout",
     "output_type": "stream",
     "text": [
      "start\n",
      "\n",
      "Start of epoch 0\n",
      "Training loss (for one batch) at step 0: 2.6202\n",
      "Seen so far: 10 samples\n",
      "Validation loss (for 200 batch) at step 0: 1.8904\n",
      "Training loss (for one batch) at step 1: 2.2767\n",
      "Seen so far: 20 samples\n",
      "Training loss (for one batch) at step 2: 2.1320\n",
      "Seen so far: 30 samples\n",
      "Training loss (for one batch) at step 3: 2.4526\n",
      "Seen so far: 40 samples\n",
      "Training loss (for one batch) at step 4: 2.3266\n",
      "Seen so far: 50 samples\n",
      "Validation loss (for 200 batch) at step 4: 2.0195\n",
      "Training loss (for one batch) at step 5: 2.5635\n",
      "Seen so far: 60 samples\n",
      "Training loss (for one batch) at step 6: 1.9469\n",
      "Seen so far: 70 samples\n",
      "Training loss (for one batch) at step 7: 1.9707\n",
      "Seen so far: 80 samples\n",
      "Training loss (for one batch) at step 8: 2.3249\n",
      "Seen so far: 90 samples\n",
      "Validation loss (for 200 batch) at step 8: 1.9931\n",
      "Training loss (for one batch) at step 9: 2.3452\n",
      "Seen so far: 100 samples\n",
      "Training loss (for one batch) at step 10: 2.1195\n",
      "Seen so far: 110 samples\n",
      "Training loss (for one batch) at step 11: 1.9681\n",
      "Seen so far: 120 samples\n",
      "Training loss (for one batch) at step 12: 2.1016\n",
      "Seen so far: 130 samples\n",
      "Validation loss (for 200 batch) at step 12: 1.9067\n",
      "Training loss (for one batch) at step 13: 2.2723\n",
      "Seen so far: 140 samples\n",
      "Training loss (for one batch) at step 14: 2.0639\n",
      "Seen so far: 150 samples\n",
      "Training loss (for one batch) at step 15: 2.5158\n",
      "Seen so far: 160 samples\n",
      "Training loss (for one batch) at step 16: 2.1427\n",
      "Seen so far: 170 samples\n",
      "Validation loss (for 200 batch) at step 16: 1.7950\n",
      "Training loss (for one batch) at step 17: 1.8830\n",
      "Seen so far: 180 samples\n",
      "Training loss (for one batch) at step 18: 2.4442\n",
      "Seen so far: 190 samples\n",
      "Training loss (for one batch) at step 19: 2.3123\n",
      "Seen so far: 200 samples\n",
      "Training loss (for one batch) at step 20: 1.9471\n",
      "Seen so far: 210 samples\n",
      "Validation loss (for 200 batch) at step 20: 1.7621\n",
      "Training loss (for one batch) at step 21: 1.9383\n",
      "Seen so far: 220 samples\n",
      "Training loss (for one batch) at step 22: 2.0814\n",
      "Seen so far: 230 samples\n",
      "Training loss (for one batch) at step 23: 1.9521\n",
      "Seen so far: 240 samples\n",
      "Training loss (for one batch) at step 24: 2.2298\n",
      "Seen so far: 250 samples\n",
      "Validation loss (for 200 batch) at step 24: 1.7905\n",
      "Training loss (for one batch) at step 25: 2.0676\n",
      "Seen so far: 260 samples\n",
      "Training loss (for one batch) at step 26: 1.8367\n",
      "Seen so far: 270 samples\n",
      "Training loss (for one batch) at step 27: 2.0386\n",
      "Seen so far: 280 samples\n",
      "Training loss (for one batch) at step 28: 2.7335\n",
      "Seen so far: 290 samples\n",
      "Validation loss (for 200 batch) at step 28: 1.7919\n",
      "Training loss (for one batch) at step 29: 2.0085\n",
      "Seen so far: 300 samples\n",
      "Training loss (for one batch) at step 30: 2.0358\n",
      "Seen so far: 310 samples\n",
      "Training loss (for one batch) at step 31: 1.8611\n",
      "Seen so far: 320 samples\n",
      "Training loss (for one batch) at step 32: 1.9476\n",
      "Seen so far: 330 samples\n",
      "Validation loss (for 200 batch) at step 32: 1.7818\n",
      "Training loss (for one batch) at step 33: 2.4642\n",
      "Seen so far: 340 samples\n",
      "Training loss (for one batch) at step 34: 3.2656\n",
      "Seen so far: 350 samples\n",
      "Training loss (for one batch) at step 35: 1.5184\n",
      "Seen so far: 360 samples\n",
      "Training loss (for one batch) at step 36: 1.7610\n",
      "Seen so far: 370 samples\n",
      "Validation loss (for 200 batch) at step 36: 1.7863\n",
      "Training loss (for one batch) at step 37: 2.7835\n",
      "Seen so far: 380 samples\n",
      "Training loss (for one batch) at step 38: 1.7768\n",
      "Seen so far: 390 samples\n",
      "Training loss (for one batch) at step 39: 1.7610\n",
      "Seen so far: 400 samples\n",
      "Training loss (for one batch) at step 40: 2.1049\n",
      "Seen so far: 410 samples\n",
      "Validation loss (for 200 batch) at step 40: 1.7833\n",
      "Training loss (for one batch) at step 41: 1.8898\n",
      "Seen so far: 420 samples\n",
      "Training loss (for one batch) at step 42: 1.9249\n",
      "Seen so far: 430 samples\n",
      "Training loss (for one batch) at step 43: 2.4204\n",
      "Seen so far: 440 samples\n",
      "Training loss (for one batch) at step 44: 1.9471\n",
      "Seen so far: 450 samples\n",
      "Validation loss (for 200 batch) at step 44: 1.7716\n",
      "Training loss (for one batch) at step 45: 2.6502\n",
      "Seen so far: 460 samples\n",
      "Training loss (for one batch) at step 46: 2.6630\n",
      "Seen so far: 470 samples\n",
      "Training loss (for one batch) at step 47: 2.5588\n",
      "Seen so far: 480 samples\n",
      "Training loss (for one batch) at step 48: 1.9757\n",
      "Seen so far: 490 samples\n",
      "Validation loss (for 200 batch) at step 48: 2.1322\n",
      "Training loss (for one batch) at step 49: 2.7102\n",
      "Seen so far: 500 samples\n",
      "Training acc over epoch: 0.1900\n",
      "Validation acc: 0.2286\n",
      "\n",
      "Start of epoch 1\n",
      "Training loss (for one batch) at step 0: 2.4313\n",
      "Seen so far: 10 samples\n",
      "Validation loss (for 200 batch) at step 0: 2.3216\n",
      "Training loss (for one batch) at step 1: 2.1604\n",
      "Seen so far: 20 samples\n",
      "Training loss (for one batch) at step 2: 2.2787\n",
      "Seen so far: 30 samples\n",
      "Training loss (for one batch) at step 3: 2.1269\n",
      "Seen so far: 40 samples\n",
      "Training loss (for one batch) at step 4: 2.4037\n",
      "Seen so far: 50 samples\n",
      "Validation loss (for 200 batch) at step 4: 2.2534\n",
      "Training loss (for one batch) at step 5: 2.2687\n",
      "Seen so far: 60 samples\n",
      "Training loss (for one batch) at step 6: 2.1367\n",
      "Seen so far: 70 samples\n",
      "Training loss (for one batch) at step 7: 2.5898\n",
      "Seen so far: 80 samples\n",
      "Training loss (for one batch) at step 8: 1.9610\n",
      "Seen so far: 90 samples\n",
      "Validation loss (for 200 batch) at step 8: 2.1517\n",
      "Training loss (for one batch) at step 9: 2.2871\n",
      "Seen so far: 100 samples\n",
      "Training loss (for one batch) at step 10: 2.1851\n",
      "Seen so far: 110 samples\n",
      "Training loss (for one batch) at step 11: 2.3090\n",
      "Seen so far: 120 samples\n",
      "Training loss (for one batch) at step 12: 2.1787\n",
      "Seen so far: 130 samples\n",
      "Validation loss (for 200 batch) at step 12: 1.9794\n",
      "Training loss (for one batch) at step 13: 2.3568\n",
      "Seen so far: 140 samples\n",
      "Training loss (for one batch) at step 14: 2.1350\n",
      "Seen so far: 150 samples\n",
      "Training loss (for one batch) at step 15: 2.2630\n",
      "Seen so far: 160 samples\n",
      "Training loss (for one batch) at step 16: 2.0997\n",
      "Seen so far: 170 samples\n",
      "Validation loss (for 200 batch) at step 16: 2.0857\n",
      "Training loss (for one batch) at step 17: 2.7072\n",
      "Seen so far: 180 samples\n",
      "Training loss (for one batch) at step 18: 2.1192\n",
      "Seen so far: 190 samples\n",
      "Training loss (for one batch) at step 19: 2.2113\n",
      "Seen so far: 200 samples\n",
      "Training loss (for one batch) at step 20: 2.0291\n",
      "Seen so far: 210 samples\n",
      "Validation loss (for 200 batch) at step 20: 2.3083\n",
      "Training loss (for one batch) at step 21: 1.9651\n",
      "Seen so far: 220 samples\n",
      "Training loss (for one batch) at step 22: 2.4452\n",
      "Seen so far: 230 samples\n",
      "Training loss (for one batch) at step 23: 1.5928\n",
      "Seen so far: 240 samples\n",
      "Training loss (for one batch) at step 24: 2.0021\n",
      "Seen so far: 250 samples\n",
      "Validation loss (for 200 batch) at step 24: 2.3348\n",
      "Training loss (for one batch) at step 25: 2.3570\n",
      "Seen so far: 260 samples\n",
      "Training loss (for one batch) at step 26: 2.3566\n",
      "Seen so far: 270 samples\n",
      "Training loss (for one batch) at step 27: 2.1600\n",
      "Seen so far: 280 samples\n",
      "Training loss (for one batch) at step 28: 2.2109\n",
      "Seen so far: 290 samples\n",
      "Validation loss (for 200 batch) at step 28: 2.2911\n",
      "Training loss (for one batch) at step 29: 2.5884\n",
      "Seen so far: 300 samples\n",
      "Training loss (for one batch) at step 30: 2.1193\n",
      "Seen so far: 310 samples\n",
      "Training loss (for one batch) at step 31: 2.6172\n",
      "Seen so far: 320 samples\n",
      "Training loss (for one batch) at step 32: 2.5729\n",
      "Seen so far: 330 samples\n",
      "Validation loss (for 200 batch) at step 32: 2.3382\n",
      "Training loss (for one batch) at step 33: 2.5173\n",
      "Seen so far: 340 samples\n",
      "Training loss (for one batch) at step 34: 2.0176\n",
      "Seen so far: 350 samples\n",
      "Training loss (for one batch) at step 35: 2.4584\n",
      "Seen so far: 360 samples\n",
      "Training loss (for one batch) at step 36: 2.0357\n",
      "Seen so far: 370 samples\n",
      "Validation loss (for 200 batch) at step 36: 2.2103\n",
      "Training loss (for one batch) at step 37: 1.9702\n",
      "Seen so far: 380 samples\n",
      "Training loss (for one batch) at step 38: 2.4430\n",
      "Seen so far: 390 samples\n",
      "Training loss (for one batch) at step 39: 2.2203\n",
      "Seen so far: 400 samples\n",
      "Training loss (for one batch) at step 40: 2.3628\n",
      "Seen so far: 410 samples\n",
      "Validation loss (for 200 batch) at step 40: 2.0500\n",
      "Training loss (for one batch) at step 41: 2.2192\n",
      "Seen so far: 420 samples\n",
      "Training loss (for one batch) at step 42: 2.2245\n",
      "Seen so far: 430 samples\n",
      "Training loss (for one batch) at step 43: 2.1445\n",
      "Seen so far: 440 samples\n",
      "Training loss (for one batch) at step 44: 1.9798\n",
      "Seen so far: 450 samples\n",
      "Validation loss (for 200 batch) at step 44: 1.9909\n",
      "Training loss (for one batch) at step 45: 2.4506\n",
      "Seen so far: 460 samples\n",
      "Training loss (for one batch) at step 46: 1.8741\n",
      "Seen so far: 470 samples\n",
      "Training loss (for one batch) at step 47: 2.2269\n",
      "Seen so far: 480 samples\n",
      "Training loss (for one batch) at step 48: 2.0453\n",
      "Seen so far: 490 samples\n",
      "Validation loss (for 200 batch) at step 48: 1.9168\n",
      "Training loss (for one batch) at step 49: 2.3899\n",
      "Seen so far: 500 samples\n",
      "Training acc over epoch: 0.2020\n",
      "Validation acc: 0.1686\n",
      "\n",
      "Start of epoch 2\n",
      "Training loss (for one batch) at step 0: 2.2825\n",
      "Seen so far: 10 samples\n",
      "Validation loss (for 200 batch) at step 0: 1.8150\n",
      "Training loss (for one batch) at step 1: 2.5779\n",
      "Seen so far: 20 samples\n",
      "Training loss (for one batch) at step 2: 2.4441\n",
      "Seen so far: 30 samples\n",
      "Training loss (for one batch) at step 3: 2.2330\n",
      "Seen so far: 40 samples\n",
      "Training loss (for one batch) at step 4: 1.8153\n",
      "Seen so far: 50 samples\n",
      "Validation loss (for 200 batch) at step 4: 1.8580\n",
      "Training loss (for one batch) at step 5: 2.0979\n",
      "Seen so far: 60 samples\n",
      "Training loss (for one batch) at step 6: 2.1732\n",
      "Seen so far: 70 samples\n",
      "Training loss (for one batch) at step 7: 2.0332\n",
      "Seen so far: 80 samples\n",
      "Training loss (for one batch) at step 8: 2.0439\n",
      "Seen so far: 90 samples\n",
      "Validation loss (for 200 batch) at step 8: 1.8354\n",
      "Training loss (for one batch) at step 9: 2.1466\n",
      "Seen so far: 100 samples\n",
      "Training loss (for one batch) at step 10: 2.4916\n",
      "Seen so far: 110 samples\n",
      "Training loss (for one batch) at step 11: 1.8232\n",
      "Seen so far: 120 samples\n",
      "Training loss (for one batch) at step 12: 2.2774\n",
      "Seen so far: 130 samples\n",
      "Validation loss (for 200 batch) at step 12: 1.8097\n",
      "Training loss (for one batch) at step 13: 2.0805\n",
      "Seen so far: 140 samples\n",
      "Training loss (for one batch) at step 14: 2.2009\n",
      "Seen so far: 150 samples\n",
      "Training loss (for one batch) at step 15: 2.1428\n",
      "Seen so far: 160 samples\n",
      "Training loss (for one batch) at step 16: 1.6899\n",
      "Seen so far: 170 samples\n",
      "Validation loss (for 200 batch) at step 16: 1.8061\n",
      "Training loss (for one batch) at step 17: 1.8342\n",
      "Seen so far: 180 samples\n",
      "Training loss (for one batch) at step 18: 2.0744\n",
      "Seen so far: 190 samples\n",
      "Training loss (for one batch) at step 19: 1.8935\n",
      "Seen so far: 200 samples\n",
      "Training loss (for one batch) at step 20: 2.4610\n",
      "Seen so far: 210 samples\n",
      "Validation loss (for 200 batch) at step 20: 1.7998\n",
      "Training loss (for one batch) at step 21: 1.5488\n",
      "Seen so far: 220 samples\n",
      "Training loss (for one batch) at step 22: 1.8419\n",
      "Seen so far: 230 samples\n",
      "Training loss (for one batch) at step 23: 2.5331\n",
      "Seen so far: 240 samples\n",
      "Training loss (for one batch) at step 24: 2.3473\n",
      "Seen so far: 250 samples\n",
      "Validation loss (for 200 batch) at step 24: 1.7842\n",
      "Training loss (for one batch) at step 25: 1.7449\n",
      "Seen so far: 260 samples\n",
      "Training loss (for one batch) at step 26: 1.5456\n",
      "Seen so far: 270 samples\n",
      "Training loss (for one batch) at step 27: 2.1433\n",
      "Seen so far: 280 samples\n",
      "Training loss (for one batch) at step 28: 2.3374\n",
      "Seen so far: 290 samples\n",
      "Validation loss (for 200 batch) at step 28: 1.7512\n",
      "Training loss (for one batch) at step 29: 2.2420\n",
      "Seen so far: 300 samples\n",
      "Training loss (for one batch) at step 30: 2.2357\n",
      "Seen so far: 310 samples\n",
      "Training loss (for one batch) at step 31: 2.7861\n",
      "Seen so far: 320 samples\n",
      "Training loss (for one batch) at step 32: 1.7987\n",
      "Seen so far: 330 samples\n",
      "Validation loss (for 200 batch) at step 32: 1.7457\n",
      "Training loss (for one batch) at step 33: 2.4983\n",
      "Seen so far: 340 samples\n",
      "Training loss (for one batch) at step 34: 1.7866\n",
      "Seen so far: 350 samples\n",
      "Training loss (for one batch) at step 35: 2.0907\n",
      "Seen so far: 360 samples\n",
      "Training loss (for one batch) at step 36: 2.1951\n",
      "Seen so far: 370 samples\n",
      "Validation loss (for 200 batch) at step 36: 1.7532\n",
      "Training loss (for one batch) at step 37: 2.8103\n",
      "Seen so far: 380 samples\n",
      "Training loss (for one batch) at step 38: 2.5420\n",
      "Seen so far: 390 samples\n",
      "Training loss (for one batch) at step 39: 2.2722\n",
      "Seen so far: 400 samples\n",
      "Training loss (for one batch) at step 40: 2.2445\n",
      "Seen so far: 410 samples\n",
      "Validation loss (for 200 batch) at step 40: 1.7862\n",
      "Training loss (for one batch) at step 41: 1.7962\n",
      "Seen so far: 420 samples\n",
      "Training loss (for one batch) at step 42: 2.7055\n",
      "Seen so far: 430 samples\n",
      "Training loss (for one batch) at step 43: 2.0902\n",
      "Seen so far: 440 samples\n",
      "Training loss (for one batch) at step 44: 2.3165\n",
      "Seen so far: 450 samples\n",
      "Validation loss (for 200 batch) at step 44: 1.8354\n",
      "Training loss (for one batch) at step 45: 2.4680\n",
      "Seen so far: 460 samples\n",
      "Training loss (for one batch) at step 46: 2.1555\n",
      "Seen so far: 470 samples\n",
      "Training loss (for one batch) at step 47: 2.3298\n",
      "Seen so far: 480 samples\n",
      "Training loss (for one batch) at step 48: 2.1323\n",
      "Seen so far: 490 samples\n",
      "Validation loss (for 200 batch) at step 48: 1.8821\n",
      "Training loss (for one batch) at step 49: 1.8891\n",
      "Seen so far: 500 samples\n",
      "Training acc over epoch: 0.2280\n",
      "Validation acc: 0.2629\n",
      "\n",
      "Start of epoch 3\n",
      "Training loss (for one batch) at step 0: 1.8001\n",
      "Seen so far: 10 samples\n",
      "Validation loss (for 200 batch) at step 0: 1.8923\n",
      "Training loss (for one batch) at step 1: 1.9410\n",
      "Seen so far: 20 samples\n",
      "Training loss (for one batch) at step 2: 2.4496\n",
      "Seen so far: 30 samples\n",
      "Training loss (for one batch) at step 3: 1.7333\n",
      "Seen so far: 40 samples\n",
      "Training loss (for one batch) at step 4: 2.0004\n",
      "Seen so far: 50 samples\n",
      "Validation loss (for 200 batch) at step 4: 1.8898\n",
      "Training loss (for one batch) at step 5: 2.4785\n",
      "Seen so far: 60 samples\n",
      "Training loss (for one batch) at step 6: 1.9034\n",
      "Seen so far: 70 samples\n",
      "Training loss (for one batch) at step 7: 2.2382\n",
      "Seen so far: 80 samples\n",
      "Training loss (for one batch) at step 8: 2.1181\n",
      "Seen so far: 90 samples\n",
      "Validation loss (for 200 batch) at step 8: 1.8730\n",
      "Training loss (for one batch) at step 9: 2.0254\n",
      "Seen so far: 100 samples\n",
      "Training loss (for one batch) at step 10: 2.0592\n",
      "Seen so far: 110 samples\n",
      "Training loss (for one batch) at step 11: 2.3383\n",
      "Seen so far: 120 samples\n",
      "Training loss (for one batch) at step 12: 2.1522\n",
      "Seen so far: 130 samples\n",
      "Validation loss (for 200 batch) at step 12: 1.8660\n",
      "Training loss (for one batch) at step 13: 1.8608\n",
      "Seen so far: 140 samples\n",
      "Training loss (for one batch) at step 14: 2.3822\n",
      "Seen so far: 150 samples\n",
      "Training loss (for one batch) at step 15: 2.2044\n",
      "Seen so far: 160 samples\n",
      "Training loss (for one batch) at step 16: 2.2589\n",
      "Seen so far: 170 samples\n",
      "Validation loss (for 200 batch) at step 16: 1.8769\n",
      "Training loss (for one batch) at step 17: 2.0051\n",
      "Seen so far: 180 samples\n",
      "Training loss (for one batch) at step 18: 2.1878\n",
      "Seen so far: 190 samples\n",
      "Training loss (for one batch) at step 19: 2.5114\n",
      "Seen so far: 200 samples\n",
      "Training loss (for one batch) at step 20: 2.4704\n",
      "Seen so far: 210 samples\n",
      "Validation loss (for 200 batch) at step 20: 1.9013\n",
      "Training loss (for one batch) at step 21: 2.0755\n",
      "Seen so far: 220 samples\n",
      "Training loss (for one batch) at step 22: 1.8405\n",
      "Seen so far: 230 samples\n",
      "Training loss (for one batch) at step 23: 2.0520\n",
      "Seen so far: 240 samples\n",
      "Training loss (for one batch) at step 24: 2.5584\n",
      "Seen so far: 250 samples\n",
      "Validation loss (for 200 batch) at step 24: 1.9266\n",
      "Training loss (for one batch) at step 25: 1.8706\n",
      "Seen so far: 260 samples\n",
      "Training loss (for one batch) at step 26: 2.4547\n",
      "Seen so far: 270 samples\n",
      "Training loss (for one batch) at step 27: 1.9758\n",
      "Seen so far: 280 samples\n",
      "Training loss (for one batch) at step 28: 2.2666\n",
      "Seen so far: 290 samples\n",
      "Validation loss (for 200 batch) at step 28: 1.9251\n",
      "Training loss (for one batch) at step 29: 2.5972\n",
      "Seen so far: 300 samples\n",
      "Training loss (for one batch) at step 30: 2.6378\n",
      "Seen so far: 310 samples\n",
      "Training loss (for one batch) at step 31: 2.3212\n",
      "Seen so far: 320 samples\n",
      "Training loss (for one batch) at step 32: 2.0791\n",
      "Seen so far: 330 samples\n",
      "Validation loss (for 200 batch) at step 32: 1.8878\n",
      "Training loss (for one batch) at step 33: 2.0993\n",
      "Seen so far: 340 samples\n",
      "Training loss (for one batch) at step 34: 2.3412\n",
      "Seen so far: 350 samples\n",
      "Training loss (for one batch) at step 35: 1.7579\n",
      "Seen so far: 360 samples\n",
      "Training loss (for one batch) at step 36: 2.1722\n",
      "Seen so far: 370 samples\n",
      "Validation loss (for 200 batch) at step 36: 1.8323\n",
      "Training loss (for one batch) at step 37: 1.9793\n",
      "Seen so far: 380 samples\n",
      "Training loss (for one batch) at step 38: 2.0758\n",
      "Seen so far: 390 samples\n",
      "Training loss (for one batch) at step 39: 2.0658\n",
      "Seen so far: 400 samples\n",
      "Training loss (for one batch) at step 40: 2.1118\n",
      "Seen so far: 410 samples\n",
      "Validation loss (for 200 batch) at step 40: 1.8121\n",
      "Training loss (for one batch) at step 41: 2.2073\n",
      "Seen so far: 420 samples\n",
      "Training loss (for one batch) at step 42: 1.7420\n",
      "Seen so far: 430 samples\n",
      "Training loss (for one batch) at step 43: 1.7373\n",
      "Seen so far: 440 samples\n",
      "Training loss (for one batch) at step 44: 2.2543\n",
      "Seen so far: 450 samples\n",
      "Validation loss (for 200 batch) at step 44: 1.7896\n",
      "Training loss (for one batch) at step 45: 2.6332\n",
      "Seen so far: 460 samples\n",
      "Training loss (for one batch) at step 46: 2.4619\n",
      "Seen so far: 470 samples\n",
      "Training loss (for one batch) at step 47: 2.1554\n",
      "Seen so far: 480 samples\n",
      "Training loss (for one batch) at step 48: 2.2105\n",
      "Seen so far: 490 samples\n",
      "Validation loss (for 200 batch) at step 48: 1.7892\n",
      "Training loss (for one batch) at step 49: 1.8819\n",
      "Seen so far: 500 samples\n",
      "Training acc over epoch: 0.2040\n",
      "Validation acc: 0.2671\n",
      "\n",
      "Start of epoch 4\n",
      "Training loss (for one batch) at step 0: 1.9928\n",
      "Seen so far: 10 samples\n",
      "Validation loss (for 200 batch) at step 0: 1.7946\n",
      "Training loss (for one batch) at step 1: 2.4349\n",
      "Seen so far: 20 samples\n",
      "Training loss (for one batch) at step 2: 2.3471\n",
      "Seen so far: 30 samples\n",
      "Training loss (for one batch) at step 3: 1.9676\n",
      "Seen so far: 40 samples\n",
      "Training loss (for one batch) at step 4: 2.1133\n",
      "Seen so far: 50 samples\n",
      "Validation loss (for 200 batch) at step 4: 1.8056\n",
      "Training loss (for one batch) at step 5: 1.7554\n",
      "Seen so far: 60 samples\n",
      "Training loss (for one batch) at step 6: 1.9280\n",
      "Seen so far: 70 samples\n",
      "Training loss (for one batch) at step 7: 2.0381\n",
      "Seen so far: 80 samples\n",
      "Training loss (for one batch) at step 8: 2.1923\n",
      "Seen so far: 90 samples\n",
      "Validation loss (for 200 batch) at step 8: 1.8066\n",
      "Training loss (for one batch) at step 9: 2.4382\n",
      "Seen so far: 100 samples\n",
      "Training loss (for one batch) at step 10: 2.5551\n",
      "Seen so far: 110 samples\n",
      "Training loss (for one batch) at step 11: 2.4033\n",
      "Seen so far: 120 samples\n",
      "Training loss (for one batch) at step 12: 2.4133\n",
      "Seen so far: 130 samples\n",
      "Validation loss (for 200 batch) at step 12: 1.8217\n",
      "Training loss (for one batch) at step 13: 2.4969\n",
      "Seen so far: 140 samples\n",
      "Training loss (for one batch) at step 14: 1.8885\n",
      "Seen so far: 150 samples\n",
      "Training loss (for one batch) at step 15: 2.4044\n",
      "Seen so far: 160 samples\n",
      "Training loss (for one batch) at step 16: 2.1104\n",
      "Seen so far: 170 samples\n",
      "Validation loss (for 200 batch) at step 16: 1.8436\n",
      "Training loss (for one batch) at step 17: 2.2516\n",
      "Seen so far: 180 samples\n",
      "Training loss (for one batch) at step 18: 1.8250\n",
      "Seen so far: 190 samples\n",
      "Training loss (for one batch) at step 19: 1.9817\n",
      "Seen so far: 200 samples\n",
      "Training loss (for one batch) at step 20: 1.8679\n",
      "Seen so far: 210 samples\n",
      "Validation loss (for 200 batch) at step 20: 1.8484\n",
      "Training loss (for one batch) at step 21: 1.7676\n",
      "Seen so far: 220 samples\n",
      "Training loss (for one batch) at step 22: 1.9166\n",
      "Seen so far: 230 samples\n",
      "Training loss (for one batch) at step 23: 1.7725\n",
      "Seen so far: 240 samples\n",
      "Training loss (for one batch) at step 24: 2.1349\n",
      "Seen so far: 250 samples\n",
      "Validation loss (for 200 batch) at step 24: 1.8326\n",
      "Training loss (for one batch) at step 25: 2.4612\n",
      "Seen so far: 260 samples\n",
      "Training loss (for one batch) at step 26: 1.9303\n",
      "Seen so far: 270 samples\n",
      "Training loss (for one batch) at step 27: 2.2311\n",
      "Seen so far: 280 samples\n",
      "Training loss (for one batch) at step 28: 2.0229\n",
      "Seen so far: 290 samples\n",
      "Validation loss (for 200 batch) at step 28: 1.8129\n",
      "Training loss (for one batch) at step 29: 2.2243\n",
      "Seen so far: 300 samples\n",
      "Training loss (for one batch) at step 30: 1.9591\n",
      "Seen so far: 310 samples\n",
      "Training loss (for one batch) at step 31: 2.4839\n",
      "Seen so far: 320 samples\n",
      "Training loss (for one batch) at step 32: 2.2234\n",
      "Seen so far: 330 samples\n",
      "Validation loss (for 200 batch) at step 32: 1.7985\n",
      "Training loss (for one batch) at step 33: 2.4352\n",
      "Seen so far: 340 samples\n",
      "Training loss (for one batch) at step 34: 1.8700\n",
      "Seen so far: 350 samples\n",
      "Training loss (for one batch) at step 35: 1.9361\n",
      "Seen so far: 360 samples\n",
      "Training loss (for one batch) at step 36: 2.3101\n",
      "Seen so far: 370 samples\n",
      "Validation loss (for 200 batch) at step 36: 1.7936\n",
      "Training loss (for one batch) at step 37: 2.2544\n",
      "Seen so far: 380 samples\n",
      "Training loss (for one batch) at step 38: 2.3579\n",
      "Seen so far: 390 samples\n",
      "Training loss (for one batch) at step 39: 2.2210\n",
      "Seen so far: 400 samples\n",
      "Training loss (for one batch) at step 40: 2.2838\n",
      "Seen so far: 410 samples\n",
      "Validation loss (for 200 batch) at step 40: 1.7988\n",
      "Training loss (for one batch) at step 41: 2.0412\n",
      "Seen so far: 420 samples\n",
      "Training loss (for one batch) at step 42: 2.0256\n",
      "Seen so far: 430 samples\n",
      "Training loss (for one batch) at step 43: 2.1611\n",
      "Seen so far: 440 samples\n",
      "Training loss (for one batch) at step 44: 2.2209\n",
      "Seen so far: 450 samples\n",
      "Validation loss (for 200 batch) at step 44: 1.8290\n",
      "Training loss (for one batch) at step 45: 2.0960\n",
      "Seen so far: 460 samples\n",
      "Training loss (for one batch) at step 46: 2.3586\n",
      "Seen so far: 470 samples\n",
      "Training loss (for one batch) at step 47: 1.8208\n",
      "Seen so far: 480 samples\n",
      "Training loss (for one batch) at step 48: 1.8924\n",
      "Seen so far: 490 samples\n",
      "Validation loss (for 200 batch) at step 48: 1.8550\n",
      "Training loss (for one batch) at step 49: 2.3236\n",
      "Seen so far: 500 samples\n",
      "Training acc over epoch: 0.2240\n",
      "Validation acc: 0.2614\n"
     ]
    }
   ],
   "source": [
    "loss_fn = tf.keras.losses.CategoricalCrossentropy()\n",
    "optimizer = tf.keras.optimizers.Adam()\n",
    "train_acc_metric = tf.keras.metrics.CategoricalAccuracy()\n",
    "val_acc_metric = tf.keras.metrics.CategoricalAccuracy()\n",
    "\n",
    "@tf.function\n",
    "def train_step(x, y):\n",
    "    with tf.GradientTape() as tape:\n",
    "        logits = model(x, training=True)\n",
    "        loss_value = loss_fn(y, logits)\n",
    "    grads = tape.gradient(loss_value, model.trainable_weights)\n",
    "    optimizer.apply_gradients(zip(grads, model.trainable_weights))\n",
    "    train_acc_metric.update_state(y, logits)\n",
    "    return loss_value\n",
    "\n",
    "@tf.function\n",
    "def test_step(x, y):\n",
    "    val_logits = model(x, training=False)\n",
    "    val_loss_value = loss_fn(y, val_logits)\n",
    "    val_acc_metric.update_state(y, val_logits)\n",
    "    return val_loss_value\n",
    "\n",
    "\n",
    "print(\"start\")\n",
    "\n",
    "for epoch in range(epochs):\n",
    "    print(\"\\nStart of epoch %d\" % (epoch,))\n",
    "\n",
    "    # Iterate over the batches of the dataset.\n",
    "    for step, (x_batch_train, y_batch_train) in enumerate(train_dataset):\n",
    "        loss_value = train_step(x_batch_train, y_batch_train)\n",
    "\n",
    "        # Log every 1 batches.\n",
    "        if step % 1 == 0:\n",
    "            train_acc = train_acc_metric.result()\n",
    "            #train_acc_metric.reset_states()\n",
    "            print(\n",
    "                \"Training loss (for one batch) at step %d: %.4f\"\n",
    "                % (step, float(loss_value))\n",
    "            )\n",
    "            print(\"Seen so far: %d samples\" % ((step + 1) * batch_size))\n",
    "            wandb.log({\"Training Loss\": loss_value, \"Train Acc\": train_acc})\n",
    "        # Run a validation loop each 4 steps\n",
    "        if step % 4 == 0:\n",
    "            for x_batch_val, y_batch_val in val_dataset:\n",
    "                val_loss = test_step(x_batch_val, y_batch_val)\n",
    "            val_acc = val_acc_metric.result()\n",
    "            #val_acc_metric.reset_states()\n",
    "            print(\n",
    "                \"Validation loss (for 200 batch) at step %d: %.4f\"\n",
    "                % (step, float(val_loss))\n",
    "            )\n",
    "            wandb.log({\"Validation Loss\": val_loss, \"Validation Acc\": val_acc})\n",
    "    # Display metrics at the end of each epoch.\n",
    "    train_acc = train_acc_metric.result()\n",
    "    print(\"Training acc over epoch: %.4f\" % (float(train_acc),))\n",
    "    wandb.log({\"Train Acc Epoch\": train_acc})\n",
    "    # Reset training metrics at the end of each epoch\n",
    "    train_acc_metric.reset_states()\n",
    "\n",
    "    # Run a validation loop at the end of each epoch.\n",
    "    for x_batch_val, y_batch_val in val_dataset:\n",
    "        test_step(x_batch_val, y_batch_val)\n",
    "\n",
    "    val_acc = val_acc_metric.result()\n",
    "    val_acc_metric.reset_states()\n",
    "    print(\"Validation acc: %.4f\" % (float(val_acc),))\n",
    "    wandb.log({\"Validation Acc Epoch\": val_acc})"
   ]
  },
  {
   "cell_type": "code",
   "execution_count": 46,
   "metadata": {},
   "outputs": [
    {
     "name": "stdout",
     "output_type": "stream",
     "text": [
      "332/332 [==============================] - 49s 145ms/step - loss: 2.7726 - categorical_accuracy: 0.0769\n",
      "Test set\n",
      "  Loss: 2.773\n",
      "  Accuracy: 0.077\n"
     ]
    }
   ],
   "source": [
    "accr = model.evaluate(X_test,Y_test)\n",
    "print('Test set\\n  Loss: {:0.3f}\\n  Accuracy: {:0.3f}'.format(accr[0],accr[1]))"
   ]
  },
  {
   "cell_type": "code",
   "execution_count": 85,
   "metadata": {},
   "outputs": [
    {
     "name": "stdout",
     "output_type": "stream",
     "text": [
      "[2.7727158069610596, 0.027246158570051193]\n"
     ]
    }
   ],
   "source": [
    "print(accr)"
   ]
  },
  {
   "cell_type": "code",
   "execution_count": null,
   "metadata": {},
   "outputs": [
    {
     "name": "stderr",
     "output_type": "stream",
     "text": [
      "A subdirectory or file -p already exists.\n",
      "Error occurred while processing: -p.\n",
      "A subdirectory or file saved_model already exists.\n",
      "Error occurred while processing: saved_model.\n",
      "WARNING:absl:Found untraced functions such as _update_step_xla while saving (showing 1 of 1). These functions will not be directly callable after loading.\n"
     ]
    },
    {
     "name": "stdout",
     "output_type": "stream",
     "text": [
      "INFO:tensorflow:Assets written to: saved_model/my_model\\assets\n"
     ]
    },
    {
     "name": "stderr",
     "output_type": "stream",
     "text": [
      "INFO:tensorflow:Assets written to: saved_model/my_model\\assets\n"
     ]
    }
   ],
   "source": [
    "!mkdir -p saved_model\n",
    "model.save('saved_model/my_model')\n"
   ]
  },
  {
   "cell_type": "code",
   "execution_count": 65,
   "metadata": {},
   "outputs": [
    {
     "data": {
      "text/html": [
       "Waiting for W&B process to finish... <strong style=\"color:green\">(success).</strong>"
      ],
      "text/plain": [
       "<IPython.core.display.HTML object>"
      ]
     },
     "metadata": {},
     "output_type": "display_data"
    },
    {
     "data": {
      "application/vnd.jupyter.widget-view+json": {
       "model_id": "ac70ff79e353416fb3a0beea76997e02",
       "version_major": 2,
       "version_minor": 0
      },
      "text/plain": [
       "VBox(children=(Label(value='0.001 MB of 0.029 MB uploaded (0.000 MB deduped)\\r'), FloatProgress(value=0.039970…"
      ]
     },
     "metadata": {},
     "output_type": "display_data"
    },
    {
     "data": {
      "text/html": [
       "<style>\n",
       "    table.wandb td:nth-child(1) { padding: 0 10px; text-align: left ; width: auto;} td:nth-child(2) {text-align: left ; width: 100%}\n",
       "    .wandb-row { display: flex; flex-direction: row; flex-wrap: wrap; justify-content: flex-start; width: 100% }\n",
       "    .wandb-col { display: flex; flex-direction: column; flex-basis: 100%; flex: 1; padding: 10px; }\n",
       "    </style>\n",
       "<div class=\"wandb-row\"><div class=\"wandb-col\"><h3>Run history:</h3><br/><table class=\"wandb\"><tr><td>Train Acc</td><td>▂▂▂▁▂▃▄▄█▅▃▃▄▃▄▄▂▅▅▆▆▆▆▅▃▅▄▄▄▄▄▄▇▄▄▅▅▅▅▅</td></tr><tr><td>Train Acc Epoch</td><td>▁▃█▄▇</td></tr><tr><td>Training Loss</td><td>▆▄▆▆▄▃▂█▅█▆▅▅▇▅▇█▅▅▁▅▇▆▆▂▄▅▄█▂▅▅▄▇▅▂▅▃▄▃</td></tr><tr><td>Validation Acc</td><td>▇▃▃▄▅▅▅▆▃▃▃▂▂▁▁▂▇▇▇▇▇▇▇▇█▇▇▇▇█▇▇▇▇▇▇▇▇▇▇</td></tr><tr><td>Validation Acc Epoch</td><td>▅▁███</td></tr><tr><td>Validation Loss</td><td>▃▄▃▂▂▁▁▁█▇▄███▆▄▂▂▂▂▁▁▁▂▃▃▂▃▃▃▂▂▂▂▂▂▂▂▂▂</td></tr></table><br/></div><div class=\"wandb-col\"><h3>Run summary:</h3><br/><table class=\"wandb\"><tr><td>Train Acc</td><td>0.224</td></tr><tr><td>Train Acc Epoch</td><td>0.224</td></tr><tr><td>Training Loss</td><td>2.32361</td></tr><tr><td>Validation Acc</td><td>0.26154</td></tr><tr><td>Validation Acc Epoch</td><td>0.26143</td></tr><tr><td>Validation Loss</td><td>1.85496</td></tr></table><br/></div></div>"
      ],
      "text/plain": [
       "<IPython.core.display.HTML object>"
      ]
     },
     "metadata": {},
     "output_type": "display_data"
    },
    {
     "data": {
      "text/html": [
       " View run <strong style=\"color:#cdcd00\">ethereal-wood-355</strong> at: <a href='https://wandb.ai/mbtipredictor/mbti_bert_mlm/runs/2a321063' target=\"_blank\">https://wandb.ai/mbtipredictor/mbti_bert_mlm/runs/2a321063</a><br/>Synced 5 W&B file(s), 0 media file(s), 0 artifact file(s) and 0 other file(s)"
      ],
      "text/plain": [
       "<IPython.core.display.HTML object>"
      ]
     },
     "metadata": {},
     "output_type": "display_data"
    },
    {
     "data": {
      "text/html": [
       "Find logs at: <code>.\\wandb\\run-20230318_133829-2a321063\\logs</code>"
      ],
      "text/plain": [
       "<IPython.core.display.HTML object>"
      ]
     },
     "metadata": {},
     "output_type": "display_data"
    }
   ],
   "source": [
    "run.finish()"
   ]
  }
 ],
 "metadata": {
  "kernelspec": {
   "display_name": "Python 3",
   "language": "python",
   "name": "python3"
  },
  "language_info": {
   "codemirror_mode": {
    "name": "ipython",
    "version": 3
   },
   "file_extension": ".py",
   "mimetype": "text/x-python",
   "name": "python",
   "nbconvert_exporter": "python",
   "pygments_lexer": "ipython3",
   "version": "3.9.13"
  },
  "orig_nbformat": 4
 },
 "nbformat": 4,
 "nbformat_minor": 2
}
